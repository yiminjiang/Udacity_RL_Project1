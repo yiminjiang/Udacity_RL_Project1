{
 "cells": [
  {
   "cell_type": "code",
   "execution_count": 1,
   "metadata": {},
   "outputs": [
    {
     "ename": "SyntaxError",
     "evalue": "invalid syntax (<ipython-input-1-2a094680dc53>, line 8)",
     "output_type": "error",
     "traceback": [
      "\u001b[0;36m  File \u001b[0;32m\"<ipython-input-1-2a094680dc53>\"\u001b[0;36m, line \u001b[0;32m8\u001b[0m\n\u001b[0;31m    Learning Algorithm: Deep Q-learning with experience replay and fixed Q-targets\u001b[0m\n\u001b[0m                     ^\u001b[0m\n\u001b[0;31mSyntaxError\u001b[0m\u001b[0;31m:\u001b[0m invalid syntax\n"
     ]
    }
   ],
   "source": [
    "BUFFER_SIZE = int(1e5)  # replay buffer size\n",
    "BATCH_SIZE = 64         # minibatch size\n",
    "GAMMA = 0.99            # discount factor\n",
    "TAU = 1e-3              # for soft update of target parameters\n",
    "LR = 8e-4               # learning rate \n",
    "UPDATE_EVERY = 12       # how often to update the network\n",
    "\n",
    "Learning Algorithm: Deep Q-learning with experience replay and fixed Q-targets\n",
    "Model Architecture: 3 layers of Neural network:\n",
    "                     first layer: 37 X 64\n",
    "                     second layer: 64 X 64\n",
    "                     third layer: 64 X 4\n",
    "                        \n",
    "Plot of Rewards: training_result.png\n",
    "Environment was resolved in 1003 episodes.\n",
    "Average scopres of last 100 episodes: 16.52\n",
    "    \n",
    "Idea of future work: Use Prioritized Experience Replay and Dlouble DQN to improve the scores.              "
   ]
  }
 ],
 "metadata": {
  "kernelspec": {
   "display_name": "Python 3",
   "language": "python",
   "name": "python3"
  },
  "language_info": {
   "codemirror_mode": {
    "name": "ipython",
    "version": 3
   },
   "file_extension": ".py",
   "mimetype": "text/x-python",
   "name": "python",
   "nbconvert_exporter": "python",
   "pygments_lexer": "ipython3",
   "version": "3.6.3"
  }
 },
 "nbformat": 4,
 "nbformat_minor": 2
}
